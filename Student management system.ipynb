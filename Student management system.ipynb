{
 "cells": [
  {
   "cell_type": "code",
   "execution_count": 1,
   "id": "b851fd34",
   "metadata": {},
   "outputs": [],
   "source": [
    "#Student management system\n",
    "class Student:\n",
    "    def __init__(self, code, name, dateofbirth, speciality):\n",
    "        self.c = code\n",
    "        self.n = name\n",
    "        self.dob = dateofbirth\n",
    "        self.s = speciality\n",
    "    def infor(self):\n",
    "        print(f'Mã sinh viên: {self.c}')\n",
    "        print(f'Tên sinh viên: {self.n}')\n",
    "        print(f'Ngày sinh: {self.dob}')\n",
    "        print(f'Chuyên ngành: {self.s}')\n",
    "        print('-----------------------')"
   ]
  },
  {
   "cell_type": "code",
   "execution_count": 2,
   "id": "9a4c21ff",
   "metadata": {},
   "outputs": [],
   "source": [
    "class Student_List():\n",
    "    def __init__(self,liststd):\n",
    "        self.l = liststd\n",
    "    def see(self):\n",
    "        for i in self.l:\n",
    "            i.infor()\n",
    "    def add(self,stud):\n",
    "        self.l.append(stud)\n",
    "    def remove(self,stud):\n",
    "        self.l.remove(stud)\n",
    "    def find(self,key_word):\n",
    "        for i in self.l:\n",
    "            for val in i.__dict__.values():\n",
    "                if key_word == val:\n",
    "                    i.infor()\n",
    "    def sort(self):\n",
    "        sorted(self.l,key = lambda x:list(x.__dict__.values())[1],reverse = False)\n",
    "        for i in self.l:\n",
    "            i.infor()"
   ]
  },
  {
   "cell_type": "code",
   "execution_count": 3,
   "id": "372dd928",
   "metadata": {},
   "outputs": [],
   "source": [
    "ds = []\n",
    "a = Student(100,'Ta Khanh Ngoc', '10/12/2003','Kế toán')\n",
    "b = Student(101,'Ta Van Minh', '11/02/2002','Kiểm toán')\n",
    "c = Student(102,'Kha Banh','09/02/1993','Ca sĩ')\n",
    "d = Student(103,'Kimmie','10/04/1996','Diễn viên')\n",
    "e = Student(104,'Eimi Fukada','18/03/1998','Diễn viên')\n",
    "db = Student_List(ds)\n",
    "db.add(a)\n",
    "db.add(b)\n",
    "db.add(c)\n",
    "db.add(d)\n",
    "db.add(e)"
   ]
  },
  {
   "cell_type": "code",
   "execution_count": 6,
   "id": "2795a863",
   "metadata": {},
   "outputs": [
    {
     "name": "stdout",
     "output_type": "stream",
     "text": [
      "Mã sinh viên: 100\n",
      "Tên sinh viên: Ta Khanh Ngoc\n",
      "Ngày sinh: 10/12/2003\n",
      "Chuyên ngành: Kế toán\n",
      "-----------------------\n",
      "Mã sinh viên: 101\n",
      "Tên sinh viên: Ta Van Minh\n",
      "Ngày sinh: 11/02/2002\n",
      "Chuyên ngành: Kiểm toán\n",
      "-----------------------\n",
      "Mã sinh viên: 102\n",
      "Tên sinh viên: Kha Banh\n",
      "Ngày sinh: 09/02/1993\n",
      "Chuyên ngành: Ca sĩ\n",
      "-----------------------\n",
      "Mã sinh viên: 103\n",
      "Tên sinh viên: Kimmie\n",
      "Ngày sinh: 10/04/1996\n",
      "Chuyên ngành: Diễn viên\n",
      "-----------------------\n",
      "Mã sinh viên: 104\n",
      "Tên sinh viên: Eimi Fukada\n",
      "Ngày sinh: 18/03/1998\n",
      "Chuyên ngành: Diễn viên\n",
      "-----------------------\n"
     ]
    }
   ],
   "source": [
    "db.see()"
   ]
  },
  {
   "cell_type": "code",
   "execution_count": 7,
   "id": "690b1915",
   "metadata": {},
   "outputs": [
    {
     "name": "stdout",
     "output_type": "stream",
     "text": [
      "Mã sinh viên: 100\n",
      "Tên sinh viên: Ta Khanh Ngoc\n",
      "Ngày sinh: 10/12/2003\n",
      "Chuyên ngành: Kế toán\n",
      "-----------------------\n",
      "Mã sinh viên: 102\n",
      "Tên sinh viên: Kha Banh\n",
      "Ngày sinh: 09/02/1993\n",
      "Chuyên ngành: Ca sĩ\n",
      "-----------------------\n",
      "Mã sinh viên: 103\n",
      "Tên sinh viên: Kimmie\n",
      "Ngày sinh: 10/04/1996\n",
      "Chuyên ngành: Diễn viên\n",
      "-----------------------\n",
      "Mã sinh viên: 104\n",
      "Tên sinh viên: Eimi Fukada\n",
      "Ngày sinh: 18/03/1998\n",
      "Chuyên ngành: Diễn viên\n",
      "-----------------------\n"
     ]
    }
   ],
   "source": [
    "db.remove(b)\n",
    "db.see()"
   ]
  },
  {
   "cell_type": "code",
   "execution_count": 4,
   "id": "3428c9d9",
   "metadata": {},
   "outputs": [
    {
     "name": "stdout",
     "output_type": "stream",
     "text": [
      "Mã sinh viên: 103\n",
      "Tên sinh viên: Kimmie\n",
      "Ngày sinh: 10/04/1996\n",
      "Chuyên ngành: Diễn viên\n",
      "-----------------------\n",
      "Mã sinh viên: 104\n",
      "Tên sinh viên: Eimi Fukada\n",
      "Ngày sinh: 18/03/1998\n",
      "Chuyên ngành: Diễn viên\n",
      "-----------------------\n"
     ]
    }
   ],
   "source": [
    "db.find('Diễn viên')"
   ]
  },
  {
   "cell_type": "code",
   "execution_count": 4,
   "id": "76e77042",
   "metadata": {},
   "outputs": [
    {
     "name": "stdout",
     "output_type": "stream",
     "text": [
      "Mã sinh viên: 100\n",
      "Tên sinh viên: Ta Khanh Ngoc\n",
      "Ngày sinh: 10/12/2003\n",
      "Chuyên ngành: Kế toán\n",
      "-----------------------\n",
      "Mã sinh viên: 101\n",
      "Tên sinh viên: Ta Van Minh\n",
      "Ngày sinh: 11/02/2002\n",
      "Chuyên ngành: Kiểm toán\n",
      "-----------------------\n",
      "Mã sinh viên: 102\n",
      "Tên sinh viên: Kha Banh\n",
      "Ngày sinh: 09/02/1993\n",
      "Chuyên ngành: Ca sĩ\n",
      "-----------------------\n",
      "Mã sinh viên: 103\n",
      "Tên sinh viên: Kimmie\n",
      "Ngày sinh: 10/04/1996\n",
      "Chuyên ngành: Diễn viên\n",
      "-----------------------\n",
      "Mã sinh viên: 104\n",
      "Tên sinh viên: Eimi Fukada\n",
      "Ngày sinh: 18/03/1998\n",
      "Chuyên ngành: Diễn viên\n",
      "-----------------------\n"
     ]
    }
   ],
   "source": [
    "db.sort()"
   ]
  },
  {
   "cell_type": "code",
   "execution_count": null,
   "id": "b26a87aa",
   "metadata": {},
   "outputs": [],
   "source": []
  }
 ],
 "metadata": {
  "kernelspec": {
   "display_name": "Python 3 (ipykernel)",
   "language": "python",
   "name": "python3"
  },
  "language_info": {
   "codemirror_mode": {
    "name": "ipython",
    "version": 3
   },
   "file_extension": ".py",
   "mimetype": "text/x-python",
   "name": "python",
   "nbconvert_exporter": "python",
   "pygments_lexer": "ipython3",
   "version": "3.9.13"
  }
 },
 "nbformat": 4,
 "nbformat_minor": 5
}
